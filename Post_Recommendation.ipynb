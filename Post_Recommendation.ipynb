{
  "nbformat": 4,
  "nbformat_minor": 0,
  "metadata": {
    "colab": {
      "name": "Post Recommendation ",
      "provenance": [],
      "collapsed_sections": [],
      "toc_visible": true
    },
    "kernelspec": {
      "name": "python3",
      "display_name": "Python 3"
    }
  },
  "cells": [
    {
      "cell_type": "markdown",
      "metadata": {
        "id": "X3d8AFP1M8K_",
        "colab_type": "text"
      },
      "source": [
        "# Recommendation system\n",
        "The two appraches we have under our belt are:\n",
        "\n",
        "\n",
        "\n",
        "1.   Collaborative filtering \n",
        "2.   Content based filtering\n",
        "\n",
        "We can apply these two appraoches in the task of recommending an item to a user but when recommending items similar to a given item, these two approaches does not make much sense separately. \n",
        "\n",
        "So we will make 2 models while recommending posts to a user and only 1 model for recommending posts similar to a given post.\n",
        "\n",
        " In collaborative filtering we move forward with the assumption that users who agreed in the past will also agree in the future.\n",
        "\n",
        " In content based filtering we are concerned with the features of a single user or post rather than taking account for other users opinion too.\n",
        "\n",
        " # What the models are going to do\n",
        "\n",
        " \n",
        " \n",
        "1.   Recommend posts for the given user\n",
        "\n",
        "2.    Recommend similar posts for the given post\n",
        "\n",
        "\n",
        "\n",
        "\n",
        " # Description of Data\n",
        "\n",
        "\n",
        "There are 3 files.\n",
        " \n",
        "\n",
        "*   users.csv Users dataset containing user's details like name, id, gender etc.\n",
        "*   posts.csv Post dataset containing posts details like title category etc.\n",
        "*   views.csv Views dataset contains the mapping which user views which post(s)\n"
      ]
    },
    {
      "cell_type": "code",
      "metadata": {
        "id": "SDtpovszfe3Y",
        "colab_type": "code",
        "outputId": "92e5a181-48e3-4329-fd2e-5040582ca07c",
        "colab": {
          "base_uri": "https://localhost:8080/",
          "height": 69
        }
      },
      "source": [
        "#import all the basic libraries we need\n",
        "import pandas as pd\n",
        "import numpy as np\n",
        "import matplotlib.pyplot as plt\n",
        "import seaborn as sns\n",
        "\n",
        "#read data\n",
        "df_posts_orig = pd.read_csv('/content/posts.csv')\n",
        "df_users_orig = pd.read_csv('/content/users.csv')\n",
        "df_views_orig = pd.read_csv('/content/views.csv')\n",
        "\n",
        "#make a copy of all dataset so that we always have original in hand\n",
        "df_posts = df_posts_orig \n",
        "df_users = df_users_orig \n",
        "df_views = df_views_orig\n",
        "\n",
        "\n",
        "print(df_posts.shape)\n",
        "print(df_users.shape)\n",
        "print(df_views.shape)\n"
      ],
      "execution_count": 0,
      "outputs": [
        {
          "output_type": "stream",
          "text": [
            "(493, 4)\n",
            "(118, 4)\n",
            "(1449, 3)\n"
          ],
          "name": "stdout"
        }
      ]
    },
    {
      "cell_type": "markdown",
      "metadata": {
        "id": "tt6MKzFHQk1_",
        "colab_type": "text"
      },
      "source": [
        "So the first thing we do after getting the data in hand is EDA. Analysis is done keeping in mind the final model we are going to make which in this case is a recommendation engine."
      ]
    },
    {
      "cell_type": "code",
      "metadata": {
        "id": "TBdpKAn4Ry_D",
        "colab_type": "code",
        "outputId": "2ac43d87-5c81-4f4b-9762-c12a9139cd08",
        "colab": {
          "base_uri": "https://localhost:8080/",
          "height": 416
        }
      },
      "source": [
        "#shape of our datsets\n",
        "print(df_posts.shape)\n",
        "print(df_users.shape)\n",
        "print(df_views.shape)\n",
        "\n",
        "#How the real data looks like\n",
        "print(df_posts.head())\n",
        "print(df_users.head())\n",
        "print(df_views.head())"
      ],
      "execution_count": 0,
      "outputs": [
        {
          "output_type": "stream",
          "text": [
            "(493, 4)\n",
            "(118, 4)\n",
            "(1449, 3)\n",
            "                        _id  ...  post_type\n",
            "0  5d62abaa65218653a132c956  ...       blog\n",
            "1  5d6d39567fa40e1417a4931c  ...       blog\n",
            "2  5d7d23315720533e15c3b1ee  ...       blog\n",
            "3  5d7d405e5720533e15c3b1f3  ...    artwork\n",
            "4  5d80dfbc6c53455f896e600e  ...       blog\n",
            "\n",
            "[5 rows x 4 columns]\n",
            "                        _id                  name gender      academics\n",
            "0  5d60098a653a331687083238  Nivesh Singh Chauhan   male  undergraduate\n",
            "1  5d610ae1653a331687083239         Gaurav Sharma   male       graduate\n",
            "2  5d618359fc5fcf3bdd9a0910         Akshay Mishra   male  undergraduate\n",
            "3  5d6d2bb87fa40e1417a49315        Saksham Mathur   male  undergraduate\n",
            "4  5d7c994d5720533e15c3b1e9         Varun Chowhan   male  undergraduate\n",
            "                    user_id                   post_id                 timestamp\n",
            "0  5df49b32cc709107827fb3c7  5ec821ddec493f4a2655889e  2020-06-01T10:46:45.131Z\n",
            "1  5ed3748576027d35905ccaab  5ed4cbadbd514d602c1531a6  2020-06-01T09:39:20.021Z\n",
            "2  5ed0defa76027d35905cc2de  5eac305f10426255a7aa9dd3  2020-06-01T08:12:42.682Z\n",
            "3  5ed0defa76027d35905cc2de  5ed1ff0276027d35905cc60d  2020-06-01T08:10:23.880Z\n",
            "4  5ed0defa76027d35905cc2de  5ed3820f76027d35905ccac8  2020-06-01T08:08:54.124Z\n"
          ],
          "name": "stdout"
        }
      ]
    },
    {
      "cell_type": "code",
      "metadata": {
        "id": "YbqdMuh3bhcK",
        "colab_type": "code",
        "outputId": "704d99ee-e59e-421b-ae6a-a9435d044872",
        "colab": {
          "base_uri": "https://localhost:8080/",
          "height": 260
        }
      },
      "source": [
        "#missing values\n",
        "print(df_posts.isnull().sum())\n",
        "print(df_users.isnull().sum())\n",
        "print(df_views.isnull().sum())"
      ],
      "execution_count": 0,
      "outputs": [
        {
          "output_type": "stream",
          "text": [
            "_id            0\n",
            "title          0\n",
            "category      28\n",
            " post_type     0\n",
            "dtype: int64\n",
            "_id          0\n",
            "name         0\n",
            "gender       0\n",
            "academics    0\n",
            "dtype: int64\n",
            "user_id      0\n",
            "post_id      0\n",
            "timestamp    0\n",
            "dtype: int64\n"
          ],
          "name": "stdout"
        }
      ]
    },
    {
      "cell_type": "markdown",
      "metadata": {
        "id": "zvdZi1K-bZFR",
        "colab_type": "text"
      },
      "source": [
        "\"Apparently\" out of all the datasets, only category column of posts data contains null values. I will not fill them right now, it'll be covered while pre-processing the data before feeding it to the final model.\n",
        "\n",
        "Let's see some visualization that'll help us building an intuition for the recommendation system.\n",
        "\n"
      ]
    },
    {
      "cell_type": "markdown",
      "metadata": {
        "id": "tLE3WeY4VFQz",
        "colab_type": "text"
      },
      "source": [
        "# Recommendation of posts \n",
        "\n",
        "We are going to find out posts that are, to some extent, similar to a given post. \n",
        "Posts own attributes like title, post type **Plus** the features we get after combining user and posts data using views dataset. We'll be extracting features like user gender and academics who viewed the given post.\n",
        "\n"
      ]
    },
    {
      "cell_type": "code",
      "metadata": {
        "id": "Lz6rgiiKV4BW",
        "colab_type": "code",
        "outputId": "54e511a5-5c90-4eb4-e3be-dc18268e3d3d",
        "colab": {
          "base_uri": "https://localhost:8080/",
          "height": 366
        }
      },
      "source": [
        "#unique values of academics in users\n",
        "print(df_users['academics'].value_counts())\n",
        "print(df_users['academics'].dtype)\n",
        "\n",
        "#merge the academic background of the audience for a post\n",
        "\n",
        "empty_list = np.zeros(df_posts.shape[0])\n",
        "\n",
        "#create two new columns for different qualification\n",
        "df_posts['undergraduate'] = empty_list\n",
        "df_posts['graduate'] = empty_list\n",
        "\n",
        "df_users.set_index('_id', inplace= True)\n",
        "df_posts.set_index('_id', inplace= True)\n",
        "\n",
        "for i in range(df_views.shape[0]):\n",
        "  \n",
        "\n",
        "  current_user_id = df_views.iloc[i, 0]\n",
        "  current_post_id = df_views.iloc[i, 1]\n",
        "\n",
        "  if any(current_user_id == df_users.index) & any(current_post_id == df_posts.index):\n",
        "\n",
        "    current_user_acad = df_users.loc[current_user_id].academics\n",
        "\n",
        "    if current_user_acad == 'undergraduate':\n",
        "      df_posts.loc[current_post_id, 'undergraduate'] += 1\n",
        "\n",
        "    if current_user_acad == 'graduate':\n",
        "      df_posts.loc[current_post_id, 'graduate'] += 1\n",
        "\n",
        "\n",
        "#distribution of views in terms of academics\n",
        "sns.set_style('darkgrid')\n",
        "plt.hist(df_posts['undergraduate']/(df_posts['undergraduate'] + df_posts['graduate']))\n",
        "plt.xlabel('Proportion of undergraduate views')\n",
        "plt.show()"
      ],
      "execution_count": 0,
      "outputs": [
        {
          "output_type": "stream",
          "text": [
            "undergraduate    68\n",
            "graduate         48\n",
            "undefined         2\n",
            "Name: academics, dtype: int64\n",
            "object\n"
          ],
          "name": "stdout"
        },
        {
          "output_type": "display_data",
          "data": {
            "image/png": "[encoded data removed]",
            "text/plain": [
              "<Figure size 432x288 with 1 Axes>"
            ]
          },
          "metadata": {
            "tags": []
          }
        }
      ]
    },
    {
      "cell_type": "markdown",
      "metadata": {
        "id": "D4XzGf6r9NmS",
        "colab_type": "text"
      },
      "source": [
        "This plot shows the proportion of undergraduate users viewing a particular post is an indication that a post may attract different audience, for example, any post about project ideas for an undergraduate may only be seen by undergraduates. \n",
        "But I cannot ignore the fact that the original distribution of acads is already pretty unbalanced. Maybe this unbalanced distribution will not appear in gender.\n",
        "\n",
        "We will do a similar distribution of gender too."
      ]
    },
    {
      "cell_type": "code",
      "metadata": {
        "id": "3r7NostP-z-M",
        "colab_type": "code",
        "outputId": "2609b789-9928-408e-887c-9e99f98aa7c3",
        "colab": {
          "base_uri": "https://localhost:8080/",
          "height": 366
        }
      },
      "source": [
        "#unique values of gender in users\n",
        "print(df_users['gender'].value_counts())\n",
        "print(df_users['gender'].dtype)\n",
        "\n",
        "\n",
        "\n",
        "#merge the gender of the audience for a post\n",
        "\n",
        "empty_list = np.zeros(df_posts.shape[0])\n",
        "\n",
        "#create two new columns for different gender\n",
        "df_posts['male'] = empty_list\n",
        "df_posts['female'] = empty_list\n",
        "\n",
        "for i in range(df_views.shape[0]):\n",
        "  \n",
        "\n",
        "  current_user_id = df_views.iloc[i, 0]\n",
        "  current_post_id = df_views.iloc[i, 1]\n",
        "\n",
        "  if any(current_user_id == df_users.index) & any(current_post_id == df_posts.index):\n",
        "\n",
        "    current_user_acad = df_users.loc[current_user_id].gender\n",
        "\n",
        "    if current_user_acad == 'male':\n",
        "      df_posts.loc[current_post_id, 'male'] += 1\n",
        "\n",
        "    if current_user_acad == 'female':\n",
        "      df_posts.loc[current_post_id, 'female'] += 1\n",
        "\n",
        "#distribution of views in terms of gender\n",
        "sns.set_style('darkgrid')\n",
        "sns.set_palette('BuGn_r')\n",
        "plt.hist(df_posts['female']/(df_posts['male'] + df_posts['female']))\n",
        "plt.xlabel('Proportion of female views')\n",
        "plt.show()\n",
        "\n",
        "\n"
      ],
      "execution_count": 0,
      "outputs": [
        {
          "output_type": "stream",
          "text": [
            "male         72\n",
            "female       44\n",
            "undefined     2\n",
            "Name: gender, dtype: int64\n",
            "object\n"
          ],
          "name": "stdout"
        },
        {
          "output_type": "display_data",
          "data": {
            "image/png": "[encoded data removed]",
            "text/plain": [
              "<Figure size 432x288 with 1 Axes>"
            ]
          },
          "metadata": {
            "tags": []
          }
        }
      ]
    },
    {
      "cell_type": "markdown",
      "metadata": {
        "id": "g4xuxyOCBWYI",
        "colab_type": "text"
      },
      "source": [
        "Values greater than 0.5 shows the bias of a post in terms of the gender of its audience.\n",
        "\n",
        "# The model\n",
        "\n",
        "We have incorporated user information in each post. Now we will cluster posts using all the features relevant to our analysis. \n",
        "For this we have to explore each feature whether it is compatible as the model input or not. "
      ]
    },
    {
      "cell_type": "code",
      "metadata": {
        "id": "QMcXakxXJI72",
        "colab_type": "code",
        "outputId": "5f40d1b9-4a3e-4aa7-b09a-98de20b50b48",
        "colab": {
          "base_uri": "https://localhost:8080/",
          "height": 156
        }
      },
      "source": [
        "print(df_posts.dtypes)"
      ],
      "execution_count": 0,
      "outputs": [
        {
          "output_type": "stream",
          "text": [
            "title             object\n",
            "category          object\n",
            " post_type        object\n",
            "undergraduate    float64\n",
            "graduate         float64\n",
            "male             float64\n",
            "female           float64\n",
            "dtype: object\n"
          ],
          "name": "stdout"
        }
      ]
    },
    {
      "cell_type": "markdown",
      "metadata": {
        "id": "ZnrA36p_JuRO",
        "colab_type": "text"
      },
      "source": [
        "Data frame of posts has different types of features. Each type will require different pre processing strategy."
      ]
    },
    {
      "cell_type": "code",
      "metadata": {
        "id": "pf8-gp7CKnvs",
        "colab_type": "code",
        "outputId": "9d557066-645b-4438-b544-4d51d2bdf8ae",
        "colab": {
          "base_uri": "https://localhost:8080/",
          "height": 295
        }
      },
      "source": [
        "print(df_posts['category'].head())\n",
        "print('\\n')\n",
        "print(df_posts['title'].head())"
      ],
      "execution_count": 0,
      "outputs": [
        {
          "output_type": "stream",
          "text": [
            "_id\n",
            "5d62abaa65218653a132c956                                  Plant Biotechnology\n",
            "5d6d39567fa40e1417a4931c    Artificial Intelligence|Machine Learning|Infor...\n",
            "5d7d23315720533e15c3b1ee                                    Operating Systems\n",
            "5d7d405e5720533e15c3b1f3                                             Drawings\n",
            "5d80dfbc6c53455f896e600e                                     Competition Laws\n",
            "Name: category, dtype: object\n",
            "\n",
            "\n",
            "_id\n",
            "5d62abaa65218653a132c956                      hello there\n",
            "5d6d39567fa40e1417a4931c                        Ml and AI\n",
            "5d7d23315720533e15c3b1ee    What is an Operating System ?\n",
            "5d7d405e5720533e15c3b1f3                       Lord Shiva\n",
            "5d80dfbc6c53455f896e600e     How Competition law evolved?\n",
            "Name: title, dtype: object\n"
          ],
          "name": "stdout"
        }
      ]
    },
    {
      "cell_type": "markdown",
      "metadata": {
        "id": "gt_SUSOnQH10",
        "colab_type": "text"
      },
      "source": [
        "These two columns are basically texts. They need to be vectorized before fed into the model. Lets check for 'post type'\n"
      ]
    },
    {
      "cell_type": "code",
      "metadata": {
        "id": "QqOEVBQgQW2Y",
        "colab_type": "code",
        "outputId": "3a041028-ec5f-422c-ea6c-85b5a9eec6a6",
        "colab": {
          "base_uri": "https://localhost:8080/",
          "height": 35
        }
      },
      "source": [
        "print(df_posts[' post_type'].unique())"
      ],
      "execution_count": 0,
      "outputs": [
        {
          "output_type": "stream",
          "text": [
            "['blog' 'artwork' 'project' 'skill']\n"
          ],
          "name": "stdout"
        }
      ]
    },
    {
      "cell_type": "markdown",
      "metadata": {
        "id": "dnkW_BZTQlV3",
        "colab_type": "text"
      },
      "source": [
        "Its is more of a categorical feature than raw text like titles and 'category' columns. \n",
        "\n",
        "It will be interesting to see the distribution of this feature."
      ]
    },
    {
      "cell_type": "code",
      "metadata": {
        "id": "NVEyDLKEQ9VY",
        "colab_type": "code",
        "outputId": "12442ed3-d1a8-4095-b496-295b9a2e004d",
        "colab": {
          "base_uri": "https://localhost:8080/",
          "height": 313
        }
      },
      "source": [
        "sns.set_style('darkgrid')\n",
        "sns.set_palette(\"Accent_r\")\n",
        "\n",
        "df_posts[' post_type'].value_counts().plot(kind= 'bar')"
      ],
      "execution_count": 0,
      "outputs": [
        {
          "output_type": "execute_result",
          "data": {
            "text/plain": [
              "<matplotlib.axes._subplots.AxesSubplot at 0x7f27c52b9da0>"
            ]
          },
          "metadata": {
            "tags": []
          },
          "execution_count": 1139
        },
        {
          "output_type": "display_data",
          "data": {
            "image/png": "[encoded data removed]",
            "text/plain": [
              "<Figure size 432x288 with 1 Axes>"
            ]
          },
          "metadata": {
            "tags": []
          }
        }
      ]
    },
    {
      "cell_type": "markdown",
      "metadata": {
        "id": "J0PPE3OsTrsG",
        "colab_type": "text"
      },
      "source": [
        "It seems like the website is popular for artwork.  ***Artistic website***.\n",
        "\n",
        "Now I will finally built the model."
      ]
    },
    {
      "cell_type": "code",
      "metadata": {
        "id": "k4fpT_3LUgub",
        "colab_type": "code",
        "outputId": "5b5bf956-6dc1-4089-95ea-d22414aa4174",
        "colab": {
          "base_uri": "https://localhost:8080/",
          "height": 52
        }
      },
      "source": [
        "#restore all the columns\n",
        "df_posts.reset_index(inplace= True)\n",
        "\n",
        "#Import all necessary lib\n",
        "from sklearn.feature_extraction.text import TfidfVectorizer\n",
        "from sklearn.feature_extraction import DictVectorizer\n",
        "from sklearn_pandas import DataFrameMapper, CategoricalImputer\n",
        "from sklearn.pipeline import FeatureUnion, Pipeline\n",
        "from sklearn.preprocessing import FunctionTransformer, normalize,  StandardScaler\n",
        "from nltk.tokenize import word_tokenize\n",
        "import nltk\n",
        "nltk.download('punkt')\n",
        "import re\n",
        "\n",
        "\n",
        "#Parting numeric, categorical and text features\n",
        "numeric_features = df_posts.describe().columns\n",
        "categorical_features = [' post_type']\n",
        "text_features = ['category', 'title'] \n",
        "\n"
      ],
      "execution_count": 0,
      "outputs": [
        {
          "output_type": "stream",
          "text": [
            "[nltk_data] Downloading package punkt to /root/nltk_data...\n",
            "[nltk_data]   Package punkt is already up-to-date!\n"
          ],
          "name": "stdout"
        }
      ]
    },
    {
      "cell_type": "markdown",
      "metadata": {
        "id": "JXO4xMnxipqk",
        "colab_type": "text"
      },
      "source": [
        "Setup is ready, now we will complete the model by feeding the data."
      ]
    },
    {
      "cell_type": "code",
      "metadata": {
        "id": "yjLCsU9_payA",
        "colab_type": "code",
        "outputId": "7f9e399b-fbcf-48be-8169-5e8a627cd329",
        "colab": {
          "base_uri": "https://localhost:8080/",
          "height": 297
        }
      },
      "source": [
        "#Import the lib \n",
        "from sklearn.decomposition import NMF\n",
        "from sklearn.cluster import KMeans\n",
        "\n",
        "\n",
        "# Function get the recommended posts\n",
        "\n",
        "def recommend_post(title):\n",
        "  \"\"\"This function takes post id as input and returns sequence of posts where top post is \n",
        "  \n",
        "      most similar to the given post and last is least similar.\n",
        "  \n",
        "      It also prints top 5 posts\"\"\"\n",
        "\n",
        "  # Post recoomendation using only numeric features\n",
        "\n",
        "  nmf = NMF(n_components= 3)\n",
        "\n",
        "  features_num = nmf.fit_transform(df_posts[numeric_features])\n",
        "\n",
        "  df_num = pd.DataFrame(normalize(features_num), index= df_posts['_id'])\n",
        "\n",
        "  current_post_num = df_num.loc[title]\n",
        "\n",
        "  similarities_num = df_num.dot(current_post_num)\n",
        "  \n",
        "  \n",
        "\n",
        "\n",
        "\n",
        "\n",
        "  # Post recommendation using only categorical data\n",
        "\n",
        "  cat_imputer_mapper = DataFrameMapper([\n",
        "      (' post_type', CategoricalImputer())\n",
        "                                      ],\n",
        "      input_df= True,\n",
        "      df_out= True\n",
        "  )\n",
        "\n",
        "  df_cat_non_dict = cat_imputer_mapper.fit_transform(df_posts)\n",
        "\n",
        "  df_cat_non_vec = df_cat_non_dict.to_dict('record')\n",
        "\n",
        "  df_cat = DictVectorizer(sort= False).fit_transform(df_cat_non_vec)\n",
        "\n",
        "  nmf_cat = NMF(n_components = 3)\n",
        "  features_cat = nmf_cat.fit_transform(df_cat)\n",
        "\n",
        "  df_cat = pd.DataFrame(normalize(features_cat), index= df_posts['_id'])\n",
        "\n",
        "  current_post_cat = df_cat.loc[title]\n",
        "\n",
        "  similarities_cat = df_cat.dot(current_post_cat)\n",
        "\n",
        "  \n",
        "\n",
        "\n",
        "\n",
        "\n",
        "  # Post recommendation using only text data\n",
        "  def combine_text_columns(data_frame):\n",
        "      \"\"\"converts all text in each row of data_frame to single vector\"\"\"\n",
        "      \n",
        "      text_data = df_posts[['title', 'category']]\n",
        "\n",
        "      # Replace nans with blanks\n",
        "      text_data.fillna('', inplace= True)\n",
        "\n",
        "      # Join all text items in a row that have a space in between\n",
        "      return text_data.apply(lambda x: \" \".join(x), axis=1)\n",
        "\n",
        "\n",
        "  #function to get important words from title and category\n",
        "  def remove_noise(text, stop_words = [\"i\", \"me\", \"my\", \"myself\", \"we\", \"our\", \"ours\", \"ourselves\", \"you\", \"your\", \"yours\", \"yourself\", \"yourselves\", \"he\", \"him\", \"his\", \"himself\", \"she\", \"her\", \"hers\", \"herself\", \"it\", \"its\", \"itself\", \"they\", \"them\", \"their\", \"theirs\", \"themselves\", \"what\", \"which\", \"who\", \"whom\", \"this\", \"that\", \"these\", \"those\", \"am\", \"is\", \"are\", \"was\", \"were\", \"be\", \"been\", \"being\", \"have\", \"has\", \"had\", \"having\", \"do\", \"does\", \"did\", \"doing\", \"a\", \"an\", \"the\", \"and\", \"but\", \"if\", \"or\", \"because\", \"as\", \"until\", \"while\", \"of\", \"at\", \"by\", \"for\", \"with\", \"about\", \"against\", \"between\", \"into\", \"through\", \"during\", \"before\", \"after\", \"above\", \"below\", \"to\", \"from\", \"up\", \"down\", \"in\", \"out\", \"on\", \"off\", \"over\", \"under\", \"again\", \"further\", \"then\", \"once\", \"here\", \"there\", \"when\", \"where\", \"why\", \"how\", \"all\", \"any\", \"both\", \"each\", \"few\", \"more\", \"most\", \"other\", \"some\", \"such\", \"no\", \"nor\", \"not\", \"only\", \"own\", \"same\", \"so\", \"than\", \"too\", \"very\", \"s\", \"t\", \"can\", \"will\", \"just\", \"don\", \"should\", \"now\"]):\n",
        "      tokens = word_tokenize(text)\n",
        "      #Alphanumeric characters\n",
        "      TOKENS_ALPHANUMERIC = '[A-Za-z0-9]+(?=\\\\s+)'\n",
        "      cleaned_tokens = []\n",
        "      for token in tokens:\n",
        "          token = re.sub(TOKENS_ALPHANUMERIC, '', token)\n",
        "          if len(token) > 2 and token.lower() not in stop_words:\n",
        "              cleaned_tokens.append(token.lower())\n",
        "\n",
        "      return cleaned_tokens\n",
        "\n",
        "\n",
        "  text_data = combine_text_columns(df_posts)\n",
        "\n",
        "  text_vec = TfidfVectorizer(max_features= 10, tokenizer= remove_noise).fit_transform(text_data)\n",
        "\n",
        "  features_text = NMF(n_components= 3).fit_transform(text_vec)\n",
        "\n",
        "  df_text = pd.DataFrame(normalize(features_text), index= df_posts['_id'])\n",
        "\n",
        "  current_post_text = df_text.loc[title]\n",
        "\n",
        "  similarities_text = df_text.dot(current_post_text)\n",
        "\n",
        "  \n",
        "\n",
        "\n",
        "\n",
        "  #combined similarity of all the recommender\n",
        "  combined_sim = 0.2*similarities_num + 0.2*similarities_cat + 0.8*similarities_text\n",
        "\n",
        "  #print titles of recommended posts\n",
        "  for i in range(5):\n",
        "    print(df_posts[df_posts['_id'] == combined_sim.nlargest().index[i]].title)\n",
        "\n",
        "\n",
        "  return(combined_sim.nlargest().index)\n",
        "\n",
        "_ = recommend_post(\"5d7d405e5720533e15c3b1f3\")\n",
        "\n",
        "\n"
      ],
      "execution_count": 0,
      "outputs": [
        {
          "output_type": "stream",
          "text": [
            "3    Lord Shiva\n",
            "Name: title, dtype: object\n",
            "46    OM\n",
            "Name: title, dtype: object\n",
            "400    God Drawing\n",
            "Name: title, dtype: object\n",
            "100    Mahakaal\n",
            "Name: title, dtype: object\n",
            "11    Trident\n",
            "Name: title, dtype: object\n"
          ],
          "name": "stdout"
        },
        {
          "output_type": "stream",
          "text": [
            "/usr/local/lib/python3.6/dist-packages/pandas/core/frame.py:4153: SettingWithCopyWarning: \n",
            "A value is trying to be set on a copy of a slice from a DataFrame\n",
            "\n",
            "See the caveats in the documentation: https://pandas.pydata.org/pandas-docs/stable/user_guide/indexing.html#returning-a-view-versus-a-copy\n",
            "  downcast=downcast,\n"
          ],
          "name": "stderr"
        }
      ]
    },
    {
      "cell_type": "markdown",
      "metadata": {
        "id": "ranqLtx2BWDN",
        "colab_type": "text"
      },
      "source": [
        "These are the posts similar to a post having title 'OM'. \n",
        "After processing all the data frame I assigned different weightage to each recommender according to the performance. \n",
        "\n",
        "***Note that this recommender system is equally valid in the case of collaborative filtering while recommending posts to a single user.***\n",
        "\n",
        "This is what I am going to do now. Make a model similar to this one with the only difference, this time we'll be treating user data set as your primary data and extract relevant features from the posts data set.\n",
        "\n",
        "# Collaborative filtering on user data set\n",
        "\n",
        "We are assuming that users who viewed a post in past are likely to see the same post in future, again!"
      ]
    },
    {
      "cell_type": "code",
      "metadata": {
        "id": "Bm0mMw34D91F",
        "colab_type": "code",
        "outputId": "38e0ecef-7a1b-4c83-8622-d2dae6e685a9",
        "colab": {
          "base_uri": "https://localhost:8080/",
          "height": 1000
        }
      },
      "source": [
        "import pytz\n",
        "tz = pytz.timezone('Asia/Kolkata')\n",
        "\n",
        "\n",
        "df_users.reset_index(inplace= True)\n",
        "\n",
        "# Function to recommend posts to a user\n",
        "\n",
        "def rec_byuser(user_id):\n",
        "  \"\"\"Takes user id as input and returns 6 posts recommended for the given user.\n",
        "  \n",
        "    It returns a list of posts id\"\"\"\n",
        "\n",
        "    \n",
        "  df_user_spec = df_views[df_views['user_id'] == user_id]\n",
        "\n",
        "  #change timestamp dtype\n",
        "  df_views['timestamp'] = pd.to_datetime(df_views['timestamp'], utc= tz)\n",
        "\n",
        "  latest_viewed_posts = df_user_spec.sort_values('timestamp', ascending= False, ignore_index= True)['post_id'].head(3)\n",
        "\n",
        "  #get the recommended posts\n",
        "  recommended_posts = []\n",
        "  \n",
        "  for i in range(3):\n",
        "    rec_posts = recommend_post(latest_viewed_posts[i])\n",
        "    recommended_posts += rec_posts[:2].tolist()\n",
        "\n",
        "  for i in range(6):\n",
        "    print(df_posts[df_posts['_id'] == recommended_posts[i]].title)\n",
        "    \n",
        "\n",
        "  return recommended_posts\n",
        "\n",
        "_ = rec_byuser(\"5d60098a653a331687083238\")"
      ],
      "execution_count": 0,
      "outputs": [
        {
          "output_type": "stream",
          "text": [
            "/usr/local/lib/python3.6/dist-packages/pandas/core/frame.py:4153: SettingWithCopyWarning: \n",
            "A value is trying to be set on a copy of a slice from a DataFrame\n",
            "\n",
            "See the caveats in the documentation: https://pandas.pydata.org/pandas-docs/stable/user_guide/indexing.html#returning-a-view-versus-a-copy\n",
            "  downcast=downcast,\n",
            "/usr/local/lib/python3.6/dist-packages/pandas/core/frame.py:4153: SettingWithCopyWarning: \n",
            "A value is trying to be set on a copy of a slice from a DataFrame\n",
            "\n",
            "See the caveats in the documentation: https://pandas.pydata.org/pandas-docs/stable/user_guide/indexing.html#returning-a-view-versus-a-copy\n",
            "  downcast=downcast,\n"
          ],
          "name": "stderr"
        },
        {
          "output_type": "stream",
          "text": [
            "489    Configure Docker with Django; PostgreSQL; Pg-a...\n",
            "Name: title, dtype: object\n",
            "186    7 Best Python Data Science Courses & Certifica...\n",
            "Name: title, dtype: object\n",
            "470    AWS services and how to launch OS on AWS Cloud\n",
            "Name: title, dtype: object\n",
            "411    The Basic Edge of Design.\n",
            "Name: title, dtype: object\n",
            "1    Ml and AI\n",
            "Name: title, dtype: object\n",
            "470    AWS services and how to launch OS on AWS Cloud\n",
            "Name: title, dtype: object\n",
            "113    Decision Making with 7 steps !!!\n",
            "Name: title, dtype: object\n",
            "132    Textile And Apparel Testing\n",
            "Name: title, dtype: object\n",
            "456    Recommend Systems Machine Learning\n",
            "Name: title, dtype: object\n",
            "489    Configure Docker with Django; PostgreSQL; Pg-a...\n",
            "Name: title, dtype: object\n",
            "455    GAN's Part(2)\n",
            "Name: title, dtype: object\n",
            "450    Machine Learning”&“Operations\" (MlOps)\n",
            "Name: title, dtype: object\n",
            "106    Topology & it's types\n",
            "Name: title, dtype: object\n",
            "114    Network & it's types\n",
            "Name: title, dtype: object\n",
            "213    8 Free Data Science Courses & Tutorials [2020]\n",
            "Name: title, dtype: object\n",
            "489    Configure Docker with Django; PostgreSQL; Pg-a...\n",
            "Name: title, dtype: object\n",
            "186    7 Best Python Data Science Courses & Certifica...\n",
            "Name: title, dtype: object\n",
            "470    AWS services and how to launch OS on AWS Cloud\n",
            "Name: title, dtype: object\n",
            "113    Decision Making with 7 steps !!!\n",
            "Name: title, dtype: object\n",
            "455    GAN's Part(2)\n",
            "Name: title, dtype: object\n",
            "450    Machine Learning”&“Operations\" (MlOps)\n",
            "Name: title, dtype: object\n"
          ],
          "name": "stdout"
        },
        {
          "output_type": "stream",
          "text": [
            "/usr/local/lib/python3.6/dist-packages/pandas/core/frame.py:4153: SettingWithCopyWarning: \n",
            "A value is trying to be set on a copy of a slice from a DataFrame\n",
            "\n",
            "See the caveats in the documentation: https://pandas.pydata.org/pandas-docs/stable/user_guide/indexing.html#returning-a-view-versus-a-copy\n",
            "  downcast=downcast,\n"
          ],
          "name": "stderr"
        },
        {
          "output_type": "execute_result",
          "data": {
            "text/plain": [
              "['5ed3820f76027d35905ccac8',\n",
              " '5e81a4f2a3258347b42f21d3',\n",
              " '5ed1ff0276027d35905cc60d',\n",
              " '5e52e7abd701ab08af7929f8',\n",
              " '5ecf96e876027d35905cbf46',\n",
              " '5ecd5d417023451e662235c5']"
            ]
          },
          "metadata": {
            "tags": []
          },
          "execution_count": 1142
        }
      ]
    },
    {
      "cell_type": "markdown",
      "metadata": {
        "id": "N8BiCtiVybTl",
        "colab_type": "text"
      },
      "source": [
        "This code is giving us recommeded posts for a user based on the **latest posts** viewed by the user."
      ]
    },
    {
      "cell_type": "markdown",
      "metadata": {
        "id": "8UNXb1ulVqeD",
        "colab_type": "text"
      },
      "source": [
        "\n",
        "\n",
        "\n",
        "\n",
        "\n",
        "\n",
        "Now the only model left is ***content based filtering*** for recommeding a post to a user. \n",
        "\n",
        "# Content based filtering\n",
        "\n",
        "Note that this method is not suitable here(according to me) as it requires few pre requisites, namely:\n",
        "\n",
        "\n",
        "*   User must be a registered member. This fails for audiences who are just roaming around in the website and they are not registered.\n",
        "*   A user is required to be a member for a long time and hence give more data to the model for better results.\n",
        "\n",
        "Here we are assuming that the user might like the same kind of posts he viewed in the past.\n",
        "\n"
      ]
    },
    {
      "cell_type": "code",
      "metadata": {
        "id": "fgtIwtiHV8N1",
        "colab_type": "code",
        "outputId": "defd6ffd-c362-40dc-f9d5-f13f66575952",
        "colab": {
          "base_uri": "https://localhost:8080/",
          "height": 471
        }
      },
      "source": [
        "df_posts.set_index('_id', inplace= True)\n",
        "\n",
        "\n",
        "\n",
        "def rec_bypost(user_id):\n",
        "  \"\"\"It takes user id as input and returns top 10 posts based on the user history.\"\"\"\n",
        "\n",
        "  #Parting numeric, categorical and text features\n",
        "  numeric_features = df_posts.describe().columns\n",
        "  categorical_features = [' post_type']\n",
        "  text_features = ['category', 'title'] \n",
        "  posts_viewed = df_views[df_views['user_id'] == user_id]['post_id']\n",
        "\n",
        "  df_posts['viewed_by'] = np.empty(df_posts.shape[0])\n",
        "\n",
        "  for post_id in posts_viewed:\n",
        "    df_posts.loc[post_id, 'viewed_by'] += 1\n",
        "\n",
        "\n",
        "\n",
        "\n",
        "  #function to get important words from title and category\n",
        "  def remove_noise(text, stop_words = [\"i\", \"me\", \"my\", \"myself\", \"we\", \"our\", \"ours\", \"ourselves\", \"you\", \"your\", \"yours\", \"yourself\", \"yourselves\", \"he\", \"him\", \"his\", \"himself\", \"she\", \"her\", \"hers\", \"herself\", \"it\", \"its\", \"itself\", \"they\", \"them\", \"their\", \"theirs\", \"themselves\", \"what\", \"which\", \"who\", \"whom\", \"this\", \"that\", \"these\", \"those\", \"am\", \"is\", \"are\", \"was\", \"were\", \"be\", \"been\", \"being\", \"have\", \"has\", \"had\", \"having\", \"do\", \"does\", \"did\", \"doing\", \"a\", \"an\", \"the\", \"and\", \"but\", \"if\", \"or\", \"because\", \"as\", \"until\", \"while\", \"of\", \"at\", \"by\", \"for\", \"with\", \"about\", \"against\", \"between\", \"into\", \"through\", \"during\", \"before\", \"after\", \"above\", \"below\", \"to\", \"from\", \"up\", \"down\", \"in\", \"out\", \"on\", \"off\", \"over\", \"under\", \"again\", \"further\", \"then\", \"once\", \"here\", \"there\", \"when\", \"where\", \"why\", \"how\", \"all\", \"any\", \"both\", \"each\", \"few\", \"more\", \"most\", \"other\", \"some\", \"such\", \"no\", \"nor\", \"not\", \"only\", \"own\", \"same\", \"so\", \"than\", \"too\", \"very\", \"s\", \"t\", \"can\", \"will\", \"just\", \"don\", \"should\", \"now\"]):\n",
        "      tokens = word_tokenize(text)\n",
        "\n",
        "      cleaned_tokens = []\n",
        "      for token in tokens:\n",
        "          token = re.sub(TOKENS_ALPHANUMERIC, '', token)\n",
        "          if len(token) > 2 and token.lower() not in stop_words:\n",
        "              cleaned_tokens.append(token.lower())\n",
        "\n",
        "      return cleaned_tokens\n",
        "\n",
        "  #Apply Imputer for non_numeric data\n",
        "  cat_imputer_mapper = DataFrameMapper([\n",
        "      (' post_type', CategoricalImputer())\n",
        "                                      ],\n",
        "      input_df= True,\n",
        "      df_out= True\n",
        "  )\n",
        "\n",
        "  #get numerical features\n",
        "  get_numeric_features = FunctionTransformer(lambda x: x[numeric_features])\n",
        "\n",
        "  #get text features\n",
        "  def combine_text_columns(data_frame):\n",
        "      \"\"\"converts all text in each row of data_frame to single vector\"\"\" \n",
        "      \n",
        "      text_data = df_posts[['title', 'category']]\n",
        "\n",
        "      # Replace nans with blanks\n",
        "      text_data.fillna('', inplace= True)\n",
        "\n",
        "      # Join all text items in a row that have a space in between\n",
        "      return text_data.apply(lambda x: \" \".join(x), axis=1)\n",
        "\n",
        "  get_text_features = FunctionTransformer(combine_text_columns)\n",
        "\n",
        "\n",
        "  #Make separate pipelines\n",
        "  # Numeric pipeline\n",
        "  numeric_pipeline = Pipeline([('selector', get_numeric_features)])\n",
        "\n",
        "  # Categorical pipeline\n",
        "  Dictifier = FunctionTransformer(lambda x: x.to_dict('record'))\n",
        "      \n",
        "  cat_pipeline = Pipeline([\n",
        "      ('imputer', cat_imputer_mapper),\n",
        "      ('dictifier', Dictifier),\n",
        "      ('vectorizer', DictVectorizer(sort= False))\n",
        "  ])\n",
        "\n",
        "  # Text pipeline\n",
        "  text_pipeline = Pipeline([('selector', get_text_features),\n",
        "                          ('vectorizer', TfidfVectorizer(max_features= 10, tokenizer= remove_noise))\n",
        "  ])\n",
        "\n",
        "\n",
        "\n",
        "  #Combine all three pipelines\n",
        "  union = FeatureUnion([\n",
        "                        ('numeric_pipe', numeric_pipeline),\n",
        "                        ('categorical_pipe', cat_pipeline),\n",
        "                        ('text_pipe', text_pipeline) \n",
        "  ])\n",
        "\n",
        "  #Import the classifier\n",
        "  from sklearn.linear_model import LinearRegression, Lasso\n",
        "\n",
        "  pipeline = Pipeline([\n",
        "                      ('union', union),\n",
        "                      ('clf', Lasso())\n",
        "  ])\n",
        "\n",
        "  pipeline.fit(df_posts.drop('viewed_by', axis= 'columns'), df_posts['viewed_by'])\n",
        "\n",
        "  n = len(posts_viewed)\n",
        "  df_to_send = df_posts.drop('viewed_by', axis= 'columns')\n",
        "  recommendations = pd.Series(pipeline.predict(df_to_send))\n",
        "  rec_posts_index = recommendations.sort_values(ascending= False)[n:n+10]\n",
        "\n",
        "  df_posts.reset_index(inplace= True)\n",
        "\n",
        "  recommended_posts = []\n",
        "  for i in rec_posts_index.index:\n",
        "    recommended_posts.append(df_posts.loc[i, '_id'])\n",
        "    if len(recommended_posts) < 6:\n",
        "      print(df_posts.loc[i, 'title'])\n",
        "\n",
        "  return recommended_posts\n",
        "\n",
        "\n",
        "_ = rec_bypost('5ed0defa76027d35905cc2de')\n"
      ],
      "execution_count": 0,
      "outputs": [
        {
          "output_type": "stream",
          "text": [
            "Ruins.\n",
            "HUMAN ILLUSTRATION\n",
            "Faith in yourself\n",
            "AWS services and how to launch OS on AWS Cloud\n",
            "Glitch.\n"
          ],
          "name": "stdout"
        },
        {
          "output_type": "stream",
          "text": [
            "/usr/local/lib/python3.6/dist-packages/pandas/core/frame.py:4153: SettingWithCopyWarning: \n",
            "A value is trying to be set on a copy of a slice from a DataFrame\n",
            "\n",
            "See the caveats in the documentation: https://pandas.pydata.org/pandas-docs/stable/user_guide/indexing.html#returning-a-view-versus-a-copy\n",
            "  downcast=downcast,\n",
            "/usr/local/lib/python3.6/dist-packages/pandas/core/frame.py:4153: SettingWithCopyWarning: \n",
            "A value is trying to be set on a copy of a slice from a DataFrame\n",
            "\n",
            "See the caveats in the documentation: https://pandas.pydata.org/pandas-docs/stable/user_guide/indexing.html#returning-a-view-versus-a-copy\n",
            "  downcast=downcast,\n"
          ],
          "name": "stderr"
        },
        {
          "output_type": "execute_result",
          "data": {
            "text/plain": [
              "['5ec57acaf2781131cc7e51d5',\n",
              " '5ec7a8bdec493f4a26558846',\n",
              " '5ecc1d4eeaff6b0c3a58a565',\n",
              " '5ed1ff0276027d35905cc60d',\n",
              " '5ec5546bf2781131cc7e5140',\n",
              " '5ec8204cec493f4a26558893',\n",
              " '5ec54fc9f2781131cc7e50f5',\n",
              " '5ec7a699ec493f4a2655883a',\n",
              " '5ec7a7a3ec493f4a26558840',\n",
              " '5ec7ad1aec493f4a26558869']"
            ]
          },
          "metadata": {
            "tags": []
          },
          "execution_count": 1143
        }
      ]
    },
    {
      "cell_type": "markdown",
      "metadata": {
        "id": "cSHn0-1Ys9wG",
        "colab_type": "text"
      },
      "source": [
        "I have used Lasso regularization in linear regression for this model. \n",
        "\n",
        "The function takes in a user_id and prints top 5 recommended posts to the user based on the user self history. "
      ]
    },
    {
      "cell_type": "markdown",
      "metadata": {
        "id": "EqmEqzEGtV_G",
        "colab_type": "text"
      },
      "source": [
        "All three models can be best described by giving one example for each recommender, which model to choose in a specific condition.\n",
        "\n",
        "\n",
        "\n",
        "1.   ***Recommendation of posts similar to a given post***\n",
        "\n",
        "The recommendation system here can be used while grouping or making different categories for different posts. Like technical posts, non technical posts etc. This helps the users to navigate their way to the posts they like the most.\n",
        "\n",
        "2.   ***Recommendation of posts using collaborative filtering***\n",
        "\n",
        "This system is best suited for situation when we do not want much information of a user but want to recommend good posts to that user. As it incorporates interest of similar users, this is certainly suited for the said situation.\n",
        "Like for instance, if a user do not sign up on the website but visits it seldom, then the chances of that user signing up later gets high if that user sees content relevant to him. In this case we are providing content to the user without actually knowing their background.\n",
        "\n",
        "3. ***Recommendation of posts using content filtering***\n",
        "\n",
        "If a registered user is a frequent visitor of the website then it is most important to retain such loyal users at all cost. Here, the user actually making it easier for us by providing us enough data to recommend him the most relevant content. Content filtering focuses on a single user, so if we have enough data of a single user then it the best method to use.\n",
        "\n",
        "\n",
        "\n",
        "As we saw, each recommender system has its own kind of advantage. \n",
        "\n"
      ]
    }
  ]
}